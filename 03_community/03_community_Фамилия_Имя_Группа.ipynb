{
 "cells": [
  {
   "cell_type": "markdown",
   "id": "79eb72ca",
   "metadata": {},
   "source": [
    "# Imports"
   ]
  },
  {
   "cell_type": "code",
   "execution_count": 5,
   "id": "25d33178",
   "metadata": {},
   "outputs": [
    {
     "name": "stdout",
     "output_type": "stream",
     "text": [
      "The autoreload extension is already loaded. To reload it, use:\n",
      "  %reload_ext autoreload\n"
     ]
    }
   ],
   "source": [
    "import numpy as np\n",
    "from matplotlib import pyplot as plt\n",
    "import networkx as nx\n",
    "\n",
    "%config InlineBackend.figure_format='retina'\n",
    "\n",
    "%load_ext autoreload\n",
    "%autoreload 2"
   ]
  },
  {
   "cell_type": "markdown",
   "id": "8415c91c",
   "metadata": {},
   "source": [
    "# Выделение сообществ"
   ]
  },
  {
   "cell_type": "markdown",
   "id": "4150341b",
   "metadata": {},
   "source": [
    "__Авторы задач: Макрушин С.В (SVMakrushin@fa.ru), Блохин Н.В. (NVBlokhin@fa.ru)__\n",
    "\n",
    "Материалы:\n",
    "* Макрушин С.В. \"Лекция 3: Выделение сообществ\"\n",
    "* Документация:\n",
    "    * https://networkx.org/documentation/stable/reference/algorithms/community.html\n",
    "    * https://networkx.org/documentation/stable/reference/generated/networkx.linalg.graphmatrix.adjacency_matrix.html\n",
    "    * https://networkx.org/documentation/networkx-1.10/reference/generators.html\n",
    "    * https://seaborn.pydata.org/generated/seaborn.heatmap.html"
   ]
  },
  {
   "cell_type": "markdown",
   "id": "655a8037",
   "metadata": {},
   "source": [
    "## Плотность и модулярность"
   ]
  },
  {
   "cell_type": "markdown",
   "id": "5e7404c4",
   "metadata": {},
   "source": [
    "1.1 Взять сеть размером от 15 до 40 узлов и создать не менее 5 разбиений этой сети на 2 сообщества (часть разбиений должны частично или полностью соответствовать интуитивным представлениям о разбиении на сообщества, часть - нет). Визуализировать результаты."
   ]
  },
  {
   "cell_type": "markdown",
   "id": "9b294739",
   "metadata": {},
   "source": [
    "Можно выделить 4 пересекающихся категори методов выявления сообществ:\n",
    "- Узло-центричные (node-centric) сообщества - все узлы сообества удовлетворяют некоторым\n",
    "критериям\n",
    "- Сете-центричные (network-centric) сообщества - задача разбиения сети в целом на несколько\n",
    "непересекающихся множеств\n",
    "    - Node Similarity\n",
    "    - Latent Space Models\n",
    "    - Modularity maximization\n",
    "    - Cut Minimization\n",
    "    - Block-Model Approximation\n",
    "- Группо-центричные (group-centric) сообщества - рассматриваются связи внутри группы, группа в\n",
    "целом (не опускаясь до уровня узлов) удовлетворяет определенным критериям\n",
    "- Иерархо-центричные (hierarchy-centric) сообщества - построение иерархической структуры\n",
    "сообществ"
   ]
  },
  {
   "cell_type": "markdown",
   "id": "0159a846",
   "metadata": {},
   "source": [
    "1.2 Для разбиений из 1.1 и всей сети рассчитать плотность и модулярность."
   ]
  },
  {
   "cell_type": "markdown",
   "id": "142a737a",
   "metadata": {},
   "source": [
    "## Алгоритм Гирвана-Ньюмена. Лувенский алгоритм."
   ]
  },
  {
   "cell_type": "markdown",
   "id": "b8d31d81",
   "metadata": {},
   "source": [
    "2.1 Считать сеть из файла `communities.edgelist`. Выполнить разбиение сети на 2 сообщества с помощью алгоритма Гирвана-Ньюмена. Визуализировать результат, раскрасив узлы в цвет, соответствующий их сообществу."
   ]
  },
  {
   "cell_type": "markdown",
   "id": "c6c5542a",
   "metadata": {},
   "source": [
    "2.2 Показать график динамики модулярности для шагов алгоритма алгоритма Гирвана-Ньюмена и визуализировать разбиение сети из 2.1 при наилучшей модулярности. Для визуализации требуется выбрать несколько цветов (в соответствии с количеством выделенных сообществ) и раскрасить узлы и связи в рамках одного сообщества этими цветами. Связи между узлами, состоящими в разных сообществах, отрисовать черным цветом. "
   ]
  },
  {
   "cell_type": "markdown",
   "id": "3d63cc02",
   "metadata": {},
   "source": [
    "2.3 Выполнить разбиение сети из 2.1 на сообщества с помощью Лувенского алгоритма. Визуализировать результат аналогично заданию 2.2."
   ]
  },
  {
   "cell_type": "markdown",
   "id": "186955b7",
   "metadata": {},
   "source": [
    "2.4 Визуализировать матрицу смежности сети из 2.1 при помощи `sns.heatmap`. Получить и визуализировать матрицу смежности для сети, в которой узлы перенумерованы в порядке возрастания номера сообщества, которому они принадлежат (т.е. номера $0...C_1-1$ даются $C_1$ узлам, принадлежащим первому сообществу; номера $C_1...C_2-1$ даются $C_2$ узлам, принадлежащим второму сообществу и т.д.). Для выделения сообществ использовать Лувенский алгоритм."
   ]
  },
  {
   "cell_type": "markdown",
   "id": "988ec037",
   "metadata": {},
   "source": [
    "2.5 $(*)$ Создать собственную реализацию алгоритма Гирвана-Ньюмена. Для нее выполнить визуализацию результата алгоритма."
   ]
  },
  {
   "cell_type": "markdown",
   "id": "33dbce6f",
   "metadata": {},
   "source": [
    "## \"Дискретный\" алгоритм распространения меток"
   ]
  },
  {
   "cell_type": "markdown",
   "id": "63d071ee",
   "metadata": {},
   "source": [
    "3.1. Визуализировать разбиение сети карате клуба на сообщества с помощью реализации алгоритма распространения меток из `networkx`."
   ]
  },
  {
   "cell_type": "markdown",
   "id": "fb7b300e",
   "metadata": {},
   "source": [
    "# Часть для получения баллов вне семинаров"
   ]
  },
  {
   "cell_type": "markdown",
   "id": "2a5dc64a",
   "metadata": {},
   "source": [
    "## 3.2, 3.3 (2 балла)"
   ]
  },
  {
   "cell_type": "markdown",
   "id": "be01ffc1",
   "metadata": {},
   "source": [
    "3.2 Реализовать алгоритм распространения меток. Решить с его помощью задачу 3.1. Визуализировать пошаговую динамику распространения меток и итоговое разбиение сети."
   ]
  },
  {
   "cell_type": "markdown",
   "id": "04037155",
   "metadata": {},
   "source": [
    "3.3 $(*)$ Выполнить разбиение сети на сообщества на основании множественного повторения дискретного label propagation по следующему принципу: если узлы часто оказываются в одном сообществе (при различных запусках алгоритма), то считать, что действительно находятся в одном сообществе."
   ]
  },
  {
   "cell_type": "markdown",
   "id": "4aefe0dd",
   "metadata": {},
   "source": [
    "## 4.1 (2 балла)"
   ]
  },
  {
   "cell_type": "markdown",
   "id": "9b6d613b",
   "metadata": {},
   "source": [
    "4.1 Реализовать лувенский алгоритм. Визуализировать разбиение сети карате клуба на сообщества."
   ]
  },
  {
   "cell_type": "code",
   "execution_count": null,
   "id": "f0560f0a",
   "metadata": {},
   "outputs": [],
   "source": []
  }
 ],
 "metadata": {
  "kernelspec": {
   "display_name": "Python 3 (ipykernel)",
   "language": "python",
   "name": "python3"
  },
  "language_info": {
   "codemirror_mode": {
    "name": "ipython",
    "version": 3
   },
   "file_extension": ".py",
   "mimetype": "text/x-python",
   "name": "python",
   "nbconvert_exporter": "python",
   "pygments_lexer": "ipython3",
   "version": "3.11.5"
  }
 },
 "nbformat": 4,
 "nbformat_minor": 5
}
