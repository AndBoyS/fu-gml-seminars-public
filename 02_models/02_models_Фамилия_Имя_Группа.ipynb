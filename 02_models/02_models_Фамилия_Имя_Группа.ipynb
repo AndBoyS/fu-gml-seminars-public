{
 "cells": [
  {
   "cell_type": "markdown",
   "id": "de22e8af",
   "metadata": {},
   "source": [
    "# Модели сетей"
   ]
  },
  {
   "cell_type": "markdown",
   "id": "3109bd8b",
   "metadata": {},
   "source": [
    "__Авторы задач: Макрушин С.В (SVMakrushin@fa.ru), Блохин Н.В. (NVBlokhin@fa.ru)__\n",
    "\n",
    "Материалы:\n",
    "* Макрушин С.В. \"Лекция 2: Модели\"\n",
    "* Документация:\n",
    "    * https://networkx.github.io/documentation/stable/reference/readwrite/index.html\n",
    "    * https://networkx.org/documentation/stable/reference/generated/networkx.generators.degree_seq.configuration_model.html\n",
    "* Датасеты с сетями:\n",
    "    * http://networkrepository.com\n",
    "    * http://konect.cc/networks/\n",
    "    * https://snap.stanford.edu/data/\n",
    "    * https://networkdata.ics.uci.edu/resources.php\n",
    "    * https://kateto.net/2016/05/network-datasets/"
   ]
  },
  {
   "cell_type": "markdown",
   "id": "30acc7d3",
   "metadata": {},
   "source": [
    "## Распределение степеней узлов"
   ]
  },
  {
   "cell_type": "markdown",
   "id": "b87c12f7",
   "metadata": {},
   "source": [
    "1.1 Загрузить большую (с кол-вом узлов `𝑁`>200 ) сеть из внешнего источника. Визуализировать закон распределения степеней узлов в обычной и логарифимических (по 1й и по 2м осям) системах координат."
   ]
  },
  {
   "cell_type": "markdown",
   "id": "da3e34ca",
   "metadata": {},
   "source": [
    "1.2 Построить график выборочной функции распределения степеней узлов для загруженного графа."
   ]
  },
  {
   "cell_type": "markdown",
   "id": "842a0e4c",
   "metadata": {},
   "source": [
    "## Модель предпочтительного присоединения"
   ]
  },
  {
   "cell_type": "markdown",
   "id": "b14ae480",
   "metadata": {},
   "source": [
    "2.1 Используя реализацию модели предпочтительного присоединения Барабаши-Альберта из `networkx`, построить сеть с кол-вом узлов 𝑁>50."
   ]
  },
  {
   "cell_type": "markdown",
   "id": "6df4e0e2",
   "metadata": {},
   "source": [
    "2.2 Создать визуализацию графа, построенного в задаче 2.1, в которой размер и цвет узла определяется его степенью."
   ]
  },
  {
   "cell_type": "markdown",
   "id": "309d8b2f",
   "metadata": {},
   "source": [
    "2.3 Используя решение задачи 2.1, построить сеть с кол-вом узлов `N=10000`. Визуализировать закон распределения степеней узлов сети в обычной и логарифимических (по 1й и по 2м осям) системах координат. Построить график выборочной функции распределения степеней узлов для сети из задания 2.1."
   ]
  },
  {
   "cell_type": "markdown",
   "id": "c18db01b",
   "metadata": {},
   "source": [
    "2.4. Визуализировать закон распределения степеней узлов с использованием log-binning для сети из 2.3. Для сравнения на этом же графике изобразите график закона распределения без использования log-binning в log-log координатах."
   ]
  },
  {
   "cell_type": "markdown",
   "id": "0177bffe",
   "metadata": {},
   "source": [
    "2.5 Реализовать алгоритм предпочтительного присоединения с целочисленными параметрами  `n0`, `m` ,`𝑡`:\n",
    "\n",
    "* `n0`  - количество узлов в исходной сети (считаем, что исходная сеть является полным графом);\n",
    "* `m`  - количество связей у каждого вновь добавляемого узла;\n",
    "* `𝑡`   - количество итераций по добоавлению нового узла. \n",
    "\n",
    "Проверить корректность алгоритма с помощью анализа распределения степеней узлов сгенерированной сети."
   ]
  },
  {
   "cell_type": "markdown",
   "id": "72463d2c",
   "metadata": {},
   "source": [
    "## Модель тесного мира Уотса-Строгатса"
   ]
  },
  {
   "cell_type": "markdown",
   "id": "6b9acbfa",
   "metadata": {},
   "source": [
    "3.1 C помощью реализации модели Уотса-Строгатса из `networkx` сгенерировать небольшие сети с разным `p` и визуализировать их. При визуализации зафиксировать положение узлов всех графов."
   ]
  },
  {
   "cell_type": "markdown",
   "id": "21baacbe",
   "metadata": {},
   "source": [
    "3.2 C помощью реализации модели Уотса-Строгатса из networkx сети с кол-вом узлов порядка 1000 и с разным p. Визуализировать результаты пересвязывания, построить на одном графике относительные изменения среднего коэффициента кластеризации и средней длины пути относительно варианта сети без пересвязывания."
   ]
  },
  {
   "cell_type": "markdown",
   "id": "9a4c3d9f",
   "metadata": {},
   "source": [
    "## Случайные сети"
   ]
  },
  {
   "cell_type": "markdown",
   "id": "514ee12d",
   "metadata": {},
   "source": [
    "4.1 C помощью `nx.configuration_model` построить рандомизированный аналог одной из небольших реальных сетей, загруженной из датасетов. Визуализируйте исходный и рандомизированный граф рядом."
   ]
  },
  {
   "cell_type": "markdown",
   "id": "cb5a92d3",
   "metadata": {},
   "source": [
    "4.2 Проверьте, совпадают ли распределения степеней узлов исходного и рандомизированного графа."
   ]
  }
 ],
 "metadata": {
  "kernelspec": {
   "display_name": "Python 3 (ipykernel)",
   "language": "python",
   "name": "python3"
  },
  "language_info": {
   "codemirror_mode": {
    "name": "ipython",
    "version": 3
   },
   "file_extension": ".py",
   "mimetype": "text/x-python",
   "name": "python",
   "nbconvert_exporter": "python",
   "pygments_lexer": "ipython3",
   "version": "3.9.7"
  }
 },
 "nbformat": 4,
 "nbformat_minor": 5
}
