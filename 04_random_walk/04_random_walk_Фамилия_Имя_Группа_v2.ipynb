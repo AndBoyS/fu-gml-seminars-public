{
 "cells": [
  {
   "cell_type": "markdown",
   "id": "5429e6a4",
   "metadata": {},
   "source": [
    "# Imports"
   ]
  },
  {
   "cell_type": "code",
   "execution_count": 114,
   "id": "9237b9f5",
   "metadata": {},
   "outputs": [
    {
     "name": "stdout",
     "output_type": "stream",
     "text": [
      "The autoreload extension is already loaded. To reload it, use:\n",
      "  %reload_ext autoreload\n"
     ]
    }
   ],
   "source": [
    "import numpy as np\n",
    "from matplotlib import pyplot as plt\n",
    "import networkx as nx\n",
    "\n",
    "%config InlineBackend.figure_format='retina'\n",
    "\n",
    "%load_ext autoreload\n",
    "%autoreload 2"
   ]
  },
  {
   "cell_type": "markdown",
   "id": "4b3296b1",
   "metadata": {},
   "source": [
    "# Случайные блуждания на графах"
   ]
  },
  {
   "cell_type": "markdown",
   "id": "845e8c79",
   "metadata": {},
   "source": [
    "__Автор задач: Блохин Н.В. (NVBlokhin@fa.ru)__\n",
    "\n",
    "Материалы:\n",
    "* Макрушин С.В. \"Лекция 5: Выделение сообществ\"\n",
    "* Документация:\n",
    "    * https://networkx.org/documentation/stable/reference/generated/networkx.linalg.graphmatrix.adjacency_matrix.html\n",
    "    * https://networkx.org/documentation/stable/reference/algorithms/generated/networkx.algorithms.link_analysis.pagerank_alg.pagerank.html\n",
    "    * https://networkx.org/documentation/stable/reference/algorithms/centrality.html\n",
    "        "
   ]
  },
  {
   "cell_type": "markdown",
   "id": "8223cc86",
   "metadata": {},
   "source": [
    "## Случайное блуждание "
   ]
  },
  {
   "cell_type": "markdown",
   "id": "39820c5d",
   "metadata": {},
   "source": [
    "1.1. Загрузить граф Karate Club. Получить матрицу смежности `A` этого графа и получить на ее основе матрицу переходов `P`. Продемонстрировать, что выполняются условия (1) и (2).\n",
    "\n",
    "$0 \\le p_{ij} \\le 1$ (1)\n",
    "\n",
    "$\\sum_j p_{ij}=1$    (2)"
   ]
  },
  {
   "cell_type": "markdown",
   "id": "8c7c9cbe",
   "metadata": {},
   "source": [
    "1.2 Создайте вектор начального состояния $\\mathbf{p}^0$. Получите стационарное состояние $\\mathbf{p}^\\infty$, используя итеративную процедуру\n",
    "\n",
    "$\\mathbf{p}^{t+1}=(\\mathbf{P}^{\\top})\\mathbf{p}^t$ "
   ]
  },
  {
   "cell_type": "markdown",
   "id": "ffa0eb27",
   "metadata": {},
   "source": [
    "1.3. Найдите матрицу перехода к стационарному состоянию $(\\mathbf{P}^{\\top})^\\infty$"
   ]
  },
  {
   "cell_type": "markdown",
   "id": "bc6ccb96",
   "metadata": {},
   "source": [
    "$(P^{\\infty})^T = \\lim_{t \\to \\infty} (P^T)^t$\n",
    "\n",
    "$(P^{\\infty})^T = P^T (P^{\\infty})^T$"
   ]
  },
  {
   "cell_type": "markdown",
   "id": "a6be0762",
   "metadata": {},
   "source": [
    "1.4. Создайте вектор начального состояния $\\mathbf{p}^0$. Получите стационарное состояние $\\mathbf{p}^\\infty$, воспользовавшись полученной матрицей $(\\mathbf{P}^{\\top})^\\infty$."
   ]
  },
  {
   "cell_type": "markdown",
   "id": "a7b90596",
   "metadata": {},
   "source": [
    "## Node2Vec"
   ]
  },
  {
   "cell_type": "markdown",
   "id": "6d124c64",
   "metadata": {},
   "source": [
    "2.1. Напишите функцию `generate_walk`, которая принимает на вход граф `G`, начальный узел `node` и генерирует случайное блуждание длины `walk_len`, начинающееся с этого узла. "
   ]
  },
  {
   "cell_type": "markdown",
   "id": "c9448784",
   "metadata": {},
   "source": [
    "2.2. Реализовать свою версию Node2Vec. Построить эмбеддинги размерности 2 и визуализировать их как координаты."
   ]
  },
  {
   "cell_type": "markdown",
   "id": "1784a3e1",
   "metadata": {},
   "source": [
    "## PageRank"
   ]
  },
  {
   "cell_type": "markdown",
   "id": "f3bb0d77",
   "metadata": {},
   "source": [
    "3.1 Воспользовавшийся реализаций алгоритма PageRank из `networkx`, вычислите важность каждого узла в сети. Визуализируйте граф, отмасшабировав диаметр каждого узла пропорционально полученным значениям."
   ]
  },
  {
   "cell_type": "markdown",
   "id": "8858a43f",
   "metadata": {},
   "source": [
    "3.2 Визуализируйте граф, используя другие меры центральности: \n",
    "- центральность по степени\n",
    "- центральность по посредничеству\n",
    "- центральность по близости\n",
    "- центральность по собственному вектору\n",
    "- центральность по PageRank\n",
    "\n",
    "Сравните результаты."
   ]
  },
  {
   "cell_type": "markdown",
   "id": "18d4dcc2",
   "metadata": {},
   "source": [
    "3.3 Исследовать, как влияют различные значение параметров `alpha` и `personalization` на результат работы алгоритма. Визуализировать результаты и прокомментировать результат"
   ]
  },
  {
   "cell_type": "markdown",
   "id": "a602d884",
   "metadata": {},
   "source": [
    "## Метод распространения меток"
   ]
  },
  {
   "cell_type": "markdown",
   "id": "e5e7facd",
   "metadata": {},
   "source": [
    "4.1 Загрузить граф Karate Club. Получите значения атрибута `club`, хранящегося на узлах. Выберите случайным образом 4 узла, относящихся к клубу `Mr. Hi` и 4 узла, относящихся к клубу `Officer`. Получите матрицу смежности, в которой узлы перенумерованы  таким образом, чтобы строки и столбцы с номерами 0, 1, ... 7 принадлежали узлам, которые были выбраны на предыдущем шаге."
   ]
  },
  {
   "cell_type": "markdown",
   "id": "bfe01004",
   "metadata": {},
   "source": [
    "4.2 Получите блочную матрицу $\\mathbf{P}$ и матрицу начального состояния меток $\\mathbf{Y_0} \\in \\{0,1\\}^{N\\times2}$\n",
    "$$\\mathbf{P} = \\begin{pmatrix}\n",
    "\\mathbf{P}_{ll}& \\mathbf{P}_{lu}\\\\\n",
    "\\mathbf{P}_{ul}& \\mathbf{P}_{uu}\\\\\n",
    "\\end{pmatrix} = \\begin{pmatrix}\n",
    "\\mathbf{I}& \\mathbf{0}\\\\\n",
    "\\mathbf{P}_{ul}& \\mathbf{P}_{uu}\\\\\n",
    "\\end{pmatrix}$$\n",
    "\n",
    "$$\\mathbf{Y_0} = \\begin{pmatrix}\n",
    "\\mathbf{Y_{l}}\\\\\n",
    "\\mathbf{Y_{u}}\\\\\n",
    "\\end{pmatrix}= \\begin{pmatrix}\n",
    "\\mathbf{Y_{l}}\\\\\n",
    "\\mathbf{0}\\\\\n",
    "\\end{pmatrix}$$"
   ]
  },
  {
   "cell_type": "markdown",
   "id": "734c1234",
   "metadata": {},
   "source": [
    "4.3 Используя Базовый вариант АРМ (см. лекцию), расставить метки для всех узлов. Визуализировать сеть, показав цветом контура вокруг узла принадлежность узла к одному из сообществ, а цветом цветом заливки узла - сообщество, к которому узел был отнесен алгоритмом."
   ]
  },
  {
   "cell_type": "markdown",
   "id": "258927d2",
   "metadata": {},
   "source": [
    "# Часть для получения баллов вне семинаров"
   ]
  },
  {
   "cell_type": "markdown",
   "id": "c7930cfd",
   "metadata": {},
   "source": [
    "## Задание 5.1 - 2 балла"
   ]
  },
  {
   "cell_type": "markdown",
   "id": "e3f3ef8f",
   "metadata": {},
   "source": [
    "5.1. Реализовать алгоритм PageRank с параметром затухания $\\alpha=0.9$.\n",
    "\n",
    "Обратите внимание, что алгоритм PageRank подразумевает, что граф является ориентированным."
   ]
  },
  {
   "cell_type": "markdown",
   "id": "0e7455ad",
   "metadata": {},
   "source": [
    "## Задание 5.2 - 2 балла"
   ]
  },
  {
   "cell_type": "markdown",
   "id": "76ea7d24",
   "metadata": {},
   "source": [
    "5.2. Модифицировать 2.2: в качестве случайного блуждания реализовать смещенное случайное блуждание. Построить эмбеддинги размерности 2 и визуализировать их как координаты."
   ]
  }
 ],
 "metadata": {
  "kernelspec": {
   "display_name": "Python 3 (ipykernel)",
   "language": "python",
   "name": "python3"
  },
  "language_info": {
   "codemirror_mode": {
    "name": "ipython",
    "version": 3
   },
   "file_extension": ".py",
   "mimetype": "text/x-python",
   "name": "python",
   "nbconvert_exporter": "python",
   "pygments_lexer": "ipython3",
   "version": "3.11.5"
  }
 },
 "nbformat": 4,
 "nbformat_minor": 5
}
